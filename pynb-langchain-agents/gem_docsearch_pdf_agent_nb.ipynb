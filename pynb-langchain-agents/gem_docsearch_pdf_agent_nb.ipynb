{
 "cells": [
  {
   "cell_type": "code",
   "execution_count": 7,
   "id": "fd45e794",
   "metadata": {},
   "outputs": [],
   "source": [
    "import os\n",
    "from langchain_google_genai import ChatGoogleGenerativeAI, GoogleGenerativeAIEmbeddings\n",
    "from langchain_core.prompts import ChatPromptTemplate\n",
    "from langchain.agents import AgentExecutor, create_tool_calling_agent\n",
    "from langchain_core.tools import tool\n",
    "from langchain_community.document_loaders import PyPDFLoader\n",
    "from langchain.text_splitter import RecursiveCharacterTextSplitter\n",
    "from langchain_community.vectorstores import FAISS\n"
   ]
  },
  {
   "cell_type": "code",
   "execution_count": 8,
   "id": "4b687c62",
   "metadata": {},
   "outputs": [],
   "source": [
    "# --- STEP 1: Load PDF and Prepare Chunks ---\n",
    "loader = PyPDFLoader(\"./../data/wikipedia_naruto.pdf\")  # Replace with your own PDF file\n",
    "docs = loader.load()\n",
    "\n",
    "splitter = RecursiveCharacterTextSplitter(chunk_size=1000, chunk_overlap=100)\n",
    "chunks = splitter.split_documents(docs)"
   ]
  },
  {
   "cell_type": "code",
   "execution_count": 9,
   "id": "613cdc08",
   "metadata": {},
   "outputs": [
    {
     "name": "stdout",
     "output_type": "stream",
     "text": [
      "Loaded API Key: True\n"
     ]
    }
   ],
   "source": [
    "from dotenv import load_dotenv\n",
    "import os\n",
    "\n",
    "# Load variables from .env into environment\n",
    "load_dotenv()\n",
    "\n",
    "# Retrieve the key\n",
    "LLM_API_KEY = os.getenv(\"GOOGLE_API_KEY\")\n",
    "\n",
    "print(\"Loaded API Key:\", LLM_API_KEY is not None)"
   ]
  },
  {
   "cell_type": "code",
   "execution_count": 10,
   "id": "f58ee9b6",
   "metadata": {},
   "outputs": [],
   "source": [
    "# --- STEP 2: Create Vector Store using Gemini Embeddings ---\n",
    "embeddings = GoogleGenerativeAIEmbeddings(\n",
    "    model=\"models/embedding-001\",\n",
    "    google_api_key=LLM_API_KEY)\n",
    "vectorstore = FAISS.from_documents(chunks, embeddings)"
   ]
  },
  {
   "cell_type": "code",
   "execution_count": 11,
   "id": "97cfdb15",
   "metadata": {},
   "outputs": [],
   "source": [
    "# --- STEP 3: Create a Search Tool ---\n",
    "@tool\n",
    "def search_pdf(query: str) -> str:\n",
    "    \"\"\"Search the PDF for relevant information and return the best matching content.\"\"\"\n",
    "    results = vectorstore.similarity_search(query, k=3)\n",
    "    return \"\\n\\n\".join([doc.page_content for doc in results])"
   ]
  },
  {
   "cell_type": "code",
   "execution_count": null,
   "id": "ddf27ba6",
   "metadata": {},
   "outputs": [],
   "source": [
    "# --- STEP 4: Setup Gemini LLM ---\n",
    "llm = ChatGoogleGenerativeAI(\n",
    "    model=\"gemini-2.5-flash\",\n",
    "    temperature=0,\n",
    "    google_api_key=LLM_API_KEY\n",
    ")\n"
   ]
  },
  {
   "cell_type": "code",
   "execution_count": 12,
   "id": "793522dd",
   "metadata": {},
   "outputs": [],
   "source": [
    "# --- STEP 5: Create Agent Prompt ---\n",
    "prompt = ChatPromptTemplate.from_messages([\n",
    "    (\"system\", \"You are a helpful AI assistant. Use the tools to search the PDF and summarize answers.\"),\n",
    "    (\"human\", \"{input}\"),\n",
    "    (\"placeholder\", \"{agent_scratchpad}\")\n",
    "])\n"
   ]
  },
  {
   "cell_type": "code",
   "execution_count": 13,
   "id": "ac0c89cb",
   "metadata": {},
   "outputs": [],
   "source": [
    "# --- STEP 6: Create Agent and Executor ---\n",
    "tools = [search_pdf]\n",
    "agent = create_tool_calling_agent(llm, tools, prompt)\n",
    "agent_executor = AgentExecutor(agent=agent, tools=tools, verbose=True)"
   ]
  },
  {
   "cell_type": "code",
   "execution_count": 14,
   "id": "c1bc7db2",
   "metadata": {},
   "outputs": [
    {
     "name": "stdout",
     "output_type": "stream",
     "text": [
      "\n",
      "\n",
      "\u001b[1m> Entering new AgentExecutor chain...\u001b[0m\n",
      "\u001b[32;1m\u001b[1;3m\n",
      "Invoking: `search_pdf` with `{'query': 'climate change key points'}`\n",
      "\n",
      "\n",
      "\u001b[0m\u001b[36;1m\u001b[1;3mbecomes the Sixth Hokage and pardons Sasuke for his crimes. Years later, Kakashi steps down while \n",
      "Naruto marries Hinata Hyuga and becomes the Seventh Hokage, raising the next generation.\n",
      "\n",
      "Source: https://en.wikipedia.org/wiki/Naruto   \n",
      "    \n",
      " This article is about the manga series. For the anime, see Naruto (TV series). For the title character, see \n",
      "Naruto Uzumaki. For other uses, see Naruto (disambiguation).   \n",
      " Not to be confused with Naruhito, the emperor of Japan.   \n",
      " Naruto   \n",
      "    \n",
      " Naruto is a Japanese manga series written and illustrated by Masashi Kishimoto. It tells the story of \n",
      "Naruto Uzumaki, a young ninja who seeks recognition from his peers and dreams of becoming the \n",
      "Hokage, the leader of his village. The story is told in two parts: the first is set in Naruto's pre-teen years \n",
      "(volumes 1±27), and the second in his teens (volumes 28±72). The series is based on two one-shot \n",
      "manga by Kishimoto: Karakuri (1995), which earned Kishimoto an honorable mention in Shueisha's \n",
      "monthly Hop Step Award the following year, and Naruto (1997).   \n",
      "    \n",
      " Naruto was serialized in Shueisha's shōnen manga magazine Weekly Shōnen Jump from September\n",
      "\n",
      "competes, and Sakura Haruno, on whom he has a crush, to form Team 7, under an experienced sensei, \n",
      "the elite ninja Kakashi Hatake. Like all the ninja teams from every village, Team 7 completes missions \n",
      "requested by the villagers, ranging from doing chores and being bodyguards to performing \n",
      "assassinations.   \n",
      "    \n",
      " After several missions, including a major one in the Land of Waves, Kakashi allows Team 7 to take a \n",
      "ninja exam, enabling them to advance to a higher rank and take on more difficult missions, known as \n",
      "Chunin Exams. During the exams, Orochimaru, a wanted criminal, invades Konoha and kills the Third\u001b[0m\u001b[32;1m\u001b[1;3mI apologize, but it seems the document you provided is about the manga series Naruto, not climate change. Therefore, I cannot summarize any key points about climate change from this document.\u001b[0m\n",
      "\n",
      "\u001b[1m> Finished chain.\u001b[0m\n",
      "\n",
      "FINAL ANSWER:\n",
      " I apologize, but it seems the document you provided is about the manga series Naruto, not climate change. Therefore, I cannot summarize any key points about climate change from this document.\n"
     ]
    }
   ],
   "source": [
    "# --- STEP 7: Run Agent ---\n",
    "\n",
    "question = \"Summarize the key points about climate change from the document.\"\n",
    "result = agent_executor.invoke({\"input\": question})\n",
    "print(\"\\nFINAL ANSWER:\\n\", result[\"output\"])"
   ]
  },
  {
   "cell_type": "code",
   "execution_count": null,
   "id": "ff4fc950",
   "metadata": {},
   "outputs": [],
   "source": []
  },
  {
   "cell_type": "code",
   "execution_count": null,
   "id": "4cf5b2be",
   "metadata": {},
   "outputs": [],
   "source": [
    "\n",
    "\n"
   ]
  }
 ],
 "metadata": {
  "kernelspec": {
   "display_name": "aiagents",
   "language": "python",
   "name": "python3"
  },
  "language_info": {
   "codemirror_mode": {
    "name": "ipython",
    "version": 3
   },
   "file_extension": ".py",
   "mimetype": "text/x-python",
   "name": "python",
   "nbconvert_exporter": "python",
   "pygments_lexer": "ipython3",
   "version": "3.11.13"
  }
 },
 "nbformat": 4,
 "nbformat_minor": 5
}
