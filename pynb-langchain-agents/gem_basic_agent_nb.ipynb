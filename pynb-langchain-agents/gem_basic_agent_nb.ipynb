{
 "cells": [
  {
   "cell_type": "code",
   "execution_count": null,
   "id": "fd45e794",
   "metadata": {},
   "outputs": [],
   "source": [
    "# gemini_agent.py\n",
    "import os\n",
    "from langchain_google_genai import ChatGoogleGenerativeAI\n",
    "from langchain_core.prompts import ChatPromptTemplate\n",
    "from langchain.agents import AgentExecutor, create_tool_calling_agent\n",
    "from langchain_core.tools import tool"
   ]
  },
  {
   "cell_type": "code",
   "execution_count": null,
   "id": "4b687c62",
   "metadata": {},
   "outputs": [],
   "source": [
    "@tool\n",
    "def multiply(a: int, b: int) -> int:\n",
    "    \"\"\"Multiply two integers and return the product.\"\"\"\n",
    "    return a * b"
   ]
  },
  {
   "cell_type": "code",
   "execution_count": null,
   "id": "42d79f09",
   "metadata": {},
   "outputs": [],
   "source": [
    "from dotenv import load_dotenv\n",
    "import os\n",
    "\n",
    "# Load variables from .env into environment\n",
    "load_dotenv()\n",
    "\n",
    "# Retrieve the key\n",
    "LLM_API_KEY = os.getenv(\"GOOGLE_API_KEY\")\n",
    "\n",
    "print(\"Loaded API Key:\", LLM_API_KEY is not None)"
   ]
  },
  {
   "cell_type": "code",
   "execution_count": null,
   "id": "97cfdb15",
   "metadata": {},
   "outputs": [],
   "source": [
    "# Gemini LLM setup\n",
    "llm = ChatGoogleGenerativeAI(\n",
    "    model=\"gemini-2.5-flash\",      # or \"gemini-2.5-flash\", etc.\n",
    "    google_api_key=LLM_API_KEY,\n",
    "    temperature=0\n",
    ")\n",
    "\n",
    "tools = [multiply]\n",
    "\n",
    "prompt = ChatPromptTemplate.from_messages(\n",
    "    [\n",
    "        (\"system\", \"You are a helpful assistant — use tools when helpful.\"),\n",
    "        (\"human\", \"{input}\"),\n",
    "        (\"placeholder\", \"{agent_scratchpad}\"),\n",
    "    ]\n",
    ")\n"
   ]
  },
  {
   "cell_type": "code",
   "execution_count": null,
   "id": "8ffdc9c3",
   "metadata": {},
   "outputs": [],
   "source": [
    "# # simple_agent.py\n",
    "# from langchain_openai import ChatOpenAI\n",
    "# from langchain_google_genai import ChatGoogleGenerativeAI\n",
    "# from langchain_core.prompts import ChatPromptTemplate\n",
    "# from langchain.agents import AgentExecutor, create_tool_calling_agent\n",
    "\n",
    "# # 1) Model (pick a small, cheap one)\n",
    "# llm = ChatOpenAI(model=\"gpt-4o-mini\",\n",
    "#                  temperature=0,\n",
    "#                  base_url=\"https://models.inference.ai.azure.com\",\n",
    "#                  api_key=XXXXXXXXX)\n",
    "\n",
    "\n",
    "# # 2) Tools\n",
    "# tools = [multiply]\n",
    "\n",
    "# # 3) Minimal chat-style prompt\n",
    "# prompt = ChatPromptTemplate.from_messages(\n",
    "#     [\n",
    "#         (\"system\", \"You are a helpful assistant. Use tools when helpful.\"),\n",
    "#         (\"human\", \"{input}\"),\n",
    "#         # This placeholder lets the agent show its tool call reasoning history.\n",
    "#         (\"placeholder\", \"{agent_scratchpad}\"),\n",
    "#     ]\n",
    "# )\n"
   ]
  },
  {
   "cell_type": "code",
   "execution_count": null,
   "id": "ac0c89cb",
   "metadata": {},
   "outputs": [],
   "source": [
    "# 4) Build agent + executor\n",
    "agent = create_tool_calling_agent(llm, tools, prompt)\n",
    "agent_executor = AgentExecutor(agent=agent, tools=tools, verbose=True)"
   ]
  },
  {
   "cell_type": "code",
   "execution_count": null,
   "id": "c1bc7db2",
   "metadata": {},
   "outputs": [],
   "source": [
    "result = agent_executor.invoke({\"input\": \"What is 23 * 17? Use the multiply tool.\"})\n",
    "print(\"\\nFINAL:\", result[\"output\"])"
   ]
  },
  {
   "cell_type": "code",
   "execution_count": null,
   "id": "b92cfd7c",
   "metadata": {},
   "outputs": [],
   "source": []
  }
 ],
 "metadata": {
  "kernelspec": {
   "display_name": "aiagents",
   "language": "python",
   "name": "python3"
  },
  "language_info": {
   "codemirror_mode": {
    "name": "ipython",
    "version": 3
   },
   "file_extension": ".py",
   "mimetype": "text/x-python",
   "name": "python",
   "nbconvert_exporter": "python",
   "pygments_lexer": "ipython3",
   "version": "3.11.13"
  }
 },
 "nbformat": 4,
 "nbformat_minor": 5
}
